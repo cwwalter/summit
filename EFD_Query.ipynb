{
 "cells": [
  {
   "cell_type": "code",
   "execution_count": 1,
   "id": "51f47e95-e316-4ec5-9b15-6e6676818a43",
   "metadata": {},
   "outputs": [],
   "source": [
    "%config InlineBackend.figure_format = 'retina'\n",
    "\n",
    "import numpy as np\n",
    "import pandas as pd\n",
    "from pandas.tseries.frequencies import to_offset\n",
    "\n",
    "import matplotlib\n",
    "import matplotlib.pyplot as plt\n",
    "from matplotlib.backends.backend_pdf import PdfPages\n",
    "\n",
    "from astropy.time import Time\n",
    "import textwrap\n",
    "\n",
    "matplotlib.rcParams['savefig.dpi'] = 120\n",
    "matplotlib.rcParams['figure.dpi'] = 120"
   ]
  },
  {
   "cell_type": "markdown",
   "id": "16bb252e-7ae0-47ff-938c-0fe71ad036fd",
   "metadata": {},
   "source": [
    "# Define Functions"
   ]
  },
  {
   "cell_type": "markdown",
   "id": "fee2b5e2-f7ff-4e59-91db-b461919ebe38",
   "metadata": {},
   "source": [
    "# Get sal object Script messages from each test"
   ]
  },
  {
   "cell_type": "code",
   "execution_count": 15,
   "id": "1e10c5ac-be2a-40ac-909b-44193363c948",
   "metadata": {},
   "outputs": [],
   "source": [
    "t_start = Time('2022-03-01T00:00', scale='utc', format='isot') \n",
    "t_end = Time('2022-04-30T00:00', scale='utc', format='isot')"
   ]
  },
  {
   "cell_type": "code",
   "execution_count": 2,
   "id": "6fb0d0ad-fda5-439a-a1dd-e52082c88466",
   "metadata": {},
   "outputs": [],
   "source": [
    "from lsst_efd_client import EfdClient\n",
    "efd_client = EfdClient('summit_efd')"
   ]
  },
  {
   "cell_type": "code",
   "execution_count": 4,
   "id": "dcaf5c84-1553-47a5-a903-af8f4a8abdc9",
   "metadata": {},
   "outputs": [],
   "source": [
    "#script_id = 42658886\n",
    "script_id = 4368092\n",
    "\n",
    "messages = await efd_client.select_time_series(\n",
    "        \"lsst.sal.Script.logevent_logMessage\", \n",
    "        fields=['ScriptID','message'], \n",
    "        index = script_id,\n",
    "        start=t_start, \n",
    "        end=t_end)\n",
    "\n",
    "messages = messages.query('message != \"Read historical data in 0.00 sec\"')\n",
    "messages.reset_index(inplace=True)"
   ]
  },
  {
   "cell_type": "code",
   "execution_count": 22,
   "id": "202470a0-b0b5-40f7-91c8-c252d91fd5ac",
   "metadata": {},
   "outputs": [],
   "source": [
    "#messages.set_index(\"index\")"
   ]
  },
  {
   "cell_type": "code",
   "execution_count": 2,
   "id": "53140c95-d1d2-49ac-8c2e-0fccc46f9ecf",
   "metadata": {},
   "outputs": [],
   "source": [
    "t_start = Time('2022-03-01T00:00', scale='utc', format='isot') \n",
    "t_end = Time('2022-04-30T00:00', scale='utc', format='isot')"
   ]
  },
  {
   "cell_type": "code",
   "execution_count": 2,
   "id": "a72b2649-d501-412b-b298-8b6d5e6fdada",
   "metadata": {},
   "outputs": [],
   "source": [
    "from lsst_efd_client import EfdClient\n",
    "efd_client = EfdClient('summit_efd')"
   ]
  },
  {
   "cell_type": "code",
   "execution_count": 21,
   "id": "f0d5d63e-136d-44be-ba68-fede52e2f3a4",
   "metadata": {},
   "outputs": [],
   "source": [
    "#script_id = 42658886\n",
    "script_id = 4368092\n",
    "\n",
    "t_start = Time('2022-06-21T18:07:08.054', scale='utc', format='isot') \n",
    "t_end = Time('2022-06-21T18:24:17.927', scale='utc', format='isot')\n",
    "\n",
    "messages = await efd_client.select_time_series(\n",
    "        \"lsst.sal.MTAOS.logevent_degreeOfFreedom\", \n",
    "        fields=['aggregatedDoF0','visitDoF0'], \n",
    "        start=t_start, \n",
    "        end=t_end)\n",
    "\n",
    "#messages = messages.query('message != \"Read historical data in 0.00 sec\"')\n",
    "#messages.reset_index(inplace=True)"
   ]
  },
  {
   "cell_type": "code",
   "execution_count": 22,
   "id": "273a58a1-3bea-41cd-b57b-0cb9df9a9f9e",
   "metadata": {},
   "outputs": [
    {
     "data": {
      "text/html": [
       "<div>\n",
       "<style scoped>\n",
       "    .dataframe tbody tr th:only-of-type {\n",
       "        vertical-align: middle;\n",
       "    }\n",
       "\n",
       "    .dataframe tbody tr th {\n",
       "        vertical-align: top;\n",
       "    }\n",
       "\n",
       "    .dataframe thead th {\n",
       "        text-align: right;\n",
       "    }\n",
       "</style>\n",
       "<table border=\"1\" class=\"dataframe\">\n",
       "  <thead>\n",
       "    <tr style=\"text-align: right;\">\n",
       "      <th></th>\n",
       "      <th>aggregatedDoF0</th>\n",
       "      <th>visitDoF0</th>\n",
       "    </tr>\n",
       "  </thead>\n",
       "  <tbody>\n",
       "    <tr>\n",
       "      <th>2022-06-21 18:08:44.351000+00:00</th>\n",
       "      <td>0.263911</td>\n",
       "      <td>-0.074331</td>\n",
       "    </tr>\n",
       "    <tr>\n",
       "      <th>2022-06-21 18:17:02.320000+00:00</th>\n",
       "      <td>0.383430</td>\n",
       "      <td>0.119519</td>\n",
       "    </tr>\n",
       "    <tr>\n",
       "      <th>2022-06-21 18:17:41.979000+00:00</th>\n",
       "      <td>0.000000</td>\n",
       "      <td>0.000000</td>\n",
       "    </tr>\n",
       "    <tr>\n",
       "      <th>2022-06-21 18:18:08.738000+00:00</th>\n",
       "      <td>0.338241</td>\n",
       "      <td>0.338241</td>\n",
       "    </tr>\n",
       "    <tr>\n",
       "      <th>2022-06-21 18:19:49.918000+00:00</th>\n",
       "      <td>0.000000</td>\n",
       "      <td>0.000000</td>\n",
       "    </tr>\n",
       "  </tbody>\n",
       "</table>\n",
       "</div>"
      ],
      "text/plain": [
       "                                  aggregatedDoF0  visitDoF0\n",
       "2022-06-21 18:08:44.351000+00:00        0.263911  -0.074331\n",
       "2022-06-21 18:17:02.320000+00:00        0.383430   0.119519\n",
       "2022-06-21 18:17:41.979000+00:00        0.000000   0.000000\n",
       "2022-06-21 18:18:08.738000+00:00        0.338241   0.338241\n",
       "2022-06-21 18:19:49.918000+00:00        0.000000   0.000000"
      ]
     },
     "execution_count": 22,
     "metadata": {},
     "output_type": "execute_result"
    }
   ],
   "source": [
    "messages"
   ]
  },
  {
   "cell_type": "code",
   "execution_count": 5,
   "id": "370a98e4-8b43-4091-8fb7-c52f145eea92",
   "metadata": {},
   "outputs": [
    {
     "data": {
      "text/html": [
       "<div>\n",
       "<style scoped>\n",
       "    .dataframe tbody tr th:only-of-type {\n",
       "        vertical-align: middle;\n",
       "    }\n",
       "\n",
       "    .dataframe tbody tr th {\n",
       "        vertical-align: top;\n",
       "    }\n",
       "\n",
       "    .dataframe thead th {\n",
       "        text-align: right;\n",
       "    }\n",
       "</style>\n",
       "<table border=\"1\" class=\"dataframe\">\n",
       "  <thead>\n",
       "    <tr style=\"text-align: right;\">\n",
       "      <th></th>\n",
       "      <th>index</th>\n",
       "      <th>ScriptID</th>\n",
       "      <th>message</th>\n",
       "    </tr>\n",
       "  </thead>\n",
       "  <tbody>\n",
       "    <tr>\n",
       "      <th>0</th>\n",
       "      <td>2022-03-04 15:53:56.368000+00:00</td>\n",
       "      <td>4368092</td>\n",
       "      <td>START -- SUMMIT-6177 - Rotator movements in steps of 10 deg -- Starting Time: 2022-03-04 15:53:56.368308 UTC</td>\n",
       "    </tr>\n",
       "    <tr>\n",
       "      <th>1</th>\n",
       "      <td>2022-03-04 16:00:25.878000+00:00</td>\n",
       "      <td>4368092</td>\n",
       "      <td>END -- SUMMIT-6177 - Rotator movements in steps of 10 deg -- End Time: 2022-03-04 16:00:25.878484 UTC</td>\n",
       "    </tr>\n",
       "    <tr>\n",
       "      <th>2</th>\n",
       "      <td>2022-03-04 17:07:44.387000+00:00</td>\n",
       "      <td>4368092</td>\n",
       "      <td>START -- SUMMIT-6177 - Rotator movements in steps of 20 deg -- Starting Time: 2022-03-04 17:07:44.387246 UTC</td>\n",
       "    </tr>\n",
       "    <tr>\n",
       "      <th>3</th>\n",
       "      <td>2022-03-04 17:21:44.043000+00:00</td>\n",
       "      <td>4368092</td>\n",
       "      <td>FAIL -- SUMMIT-6177 - Rotator movements in steps of 20 deg -- End Time: 2022-03-04 17:21:44.043146 UTC</td>\n",
       "    </tr>\n",
       "    <tr>\n",
       "      <th>4</th>\n",
       "      <td>2022-03-04 17:22:14.088000+00:00</td>\n",
       "      <td>4368092</td>\n",
       "      <td>START -- SUMMIT-6177 - Rotator movements in steps of 10 deg -- Starting Time: 2022-03-04 17:22:14.087859 UTC</td>\n",
       "    </tr>\n",
       "    <tr>\n",
       "      <th>...</th>\n",
       "      <td>...</td>\n",
       "      <td>...</td>\n",
       "      <td>...</td>\n",
       "    </tr>\n",
       "    <tr>\n",
       "      <th>35</th>\n",
       "      <td>2022-04-20 19:30:18.581000+00:00</td>\n",
       "      <td>4368092</td>\n",
       "      <td>FAIL -- Rotator Torque Calibrations Test D -- Starting Time: 2022-04-20 19:10:55.856749 UTC</td>\n",
       "    </tr>\n",
       "    <tr>\n",
       "      <th>36</th>\n",
       "      <td>2022-04-20 19:30:56.386000+00:00</td>\n",
       "      <td>4368092</td>\n",
       "      <td>START -- Rotator Torque Calibrations Test E -- Starting Time: 2022-04-20 19:30:56.385950 UTC</td>\n",
       "    </tr>\n",
       "    <tr>\n",
       "      <th>37</th>\n",
       "      <td>2022-04-20 19:35:48.984000+00:00</td>\n",
       "      <td>4368092</td>\n",
       "      <td>END -- Rotator Torque Calibrations Test E -- Starting Time: 2022-04-20 19:30:56.385950 UTC</td>\n",
       "    </tr>\n",
       "    <tr>\n",
       "      <th>38</th>\n",
       "      <td>2022-04-20 19:35:49.019000+00:00</td>\n",
       "      <td>4368092</td>\n",
       "      <td>START -- Rotator Torque Calibrations Test F -- Starting Time: 2022-04-20 19:35:49.019538 UTC</td>\n",
       "    </tr>\n",
       "    <tr>\n",
       "      <th>39</th>\n",
       "      <td>2022-04-20 19:49:37.369000+00:00</td>\n",
       "      <td>4368092</td>\n",
       "      <td>END -- Rotator Torque Calibrations Test F -- Starting Time: 2022-04-20 19:35:49.019538 UTC</td>\n",
       "    </tr>\n",
       "  </tbody>\n",
       "</table>\n",
       "<p>40 rows × 3 columns</p>\n",
       "</div>"
      ],
      "text/plain": [
       "                              index  ScriptID  \\\n",
       "0  2022-03-04 15:53:56.368000+00:00   4368092   \n",
       "1  2022-03-04 16:00:25.878000+00:00   4368092   \n",
       "2  2022-03-04 17:07:44.387000+00:00   4368092   \n",
       "3  2022-03-04 17:21:44.043000+00:00   4368092   \n",
       "4  2022-03-04 17:22:14.088000+00:00   4368092   \n",
       "..                              ...       ...   \n",
       "35 2022-04-20 19:30:18.581000+00:00   4368092   \n",
       "36 2022-04-20 19:30:56.386000+00:00   4368092   \n",
       "37 2022-04-20 19:35:48.984000+00:00   4368092   \n",
       "38 2022-04-20 19:35:49.019000+00:00   4368092   \n",
       "39 2022-04-20 19:49:37.369000+00:00   4368092   \n",
       "\n",
       "                                                                                                         message  \n",
       "0   START -- SUMMIT-6177 - Rotator movements in steps of 10 deg -- Starting Time: 2022-03-04 15:53:56.368308 UTC  \n",
       "1          END -- SUMMIT-6177 - Rotator movements in steps of 10 deg -- End Time: 2022-03-04 16:00:25.878484 UTC  \n",
       "2   START -- SUMMIT-6177 - Rotator movements in steps of 20 deg -- Starting Time: 2022-03-04 17:07:44.387246 UTC  \n",
       "3         FAIL -- SUMMIT-6177 - Rotator movements in steps of 20 deg -- End Time: 2022-03-04 17:21:44.043146 UTC  \n",
       "4   START -- SUMMIT-6177 - Rotator movements in steps of 10 deg -- Starting Time: 2022-03-04 17:22:14.087859 UTC  \n",
       "..                                                                                                           ...  \n",
       "35                   FAIL -- Rotator Torque Calibrations Test D -- Starting Time: 2022-04-20 19:10:55.856749 UTC  \n",
       "36                  START -- Rotator Torque Calibrations Test E -- Starting Time: 2022-04-20 19:30:56.385950 UTC  \n",
       "37                    END -- Rotator Torque Calibrations Test E -- Starting Time: 2022-04-20 19:30:56.385950 UTC  \n",
       "38                  START -- Rotator Torque Calibrations Test F -- Starting Time: 2022-04-20 19:35:49.019538 UTC  \n",
       "39                    END -- Rotator Torque Calibrations Test F -- Starting Time: 2022-04-20 19:35:49.019538 UTC  \n",
       "\n",
       "[40 rows x 3 columns]"
      ]
     },
     "metadata": {},
     "output_type": "display_data"
    }
   ],
   "source": [
    "with pd.option_context('display.max_rows', 10, 'display.max_colwidth', 400):\n",
    "  display(messages)"
   ]
  },
  {
   "cell_type": "code",
   "execution_count": null,
   "id": "0160dead-945c-4aa4-9fe7-0e554a63999d",
   "metadata": {},
   "outputs": [],
   "source": []
  },
  {
   "cell_type": "code",
   "execution_count": 6,
   "id": "297a199b-bc3f-4096-a489-503a468381ea",
   "metadata": {},
   "outputs": [
    {
     "data": {
      "text/markdown": [
       "|    | index                            |   ScriptID | message                                                                                                      |\n",
       "|---:|:---------------------------------|-----------:|:-------------------------------------------------------------------------------------------------------------|\n",
       "|  0 | 2022-03-04 15:53:56.368000+00:00 |    4368092 | START -- SUMMIT-6177 - Rotator movements in steps of 10 deg -- Starting Time: 2022-03-04 15:53:56.368308 UTC |\n",
       "|  1 | 2022-03-04 16:00:25.878000+00:00 |    4368092 | END -- SUMMIT-6177 - Rotator movements in steps of 10 deg -- End Time: 2022-03-04 16:00:25.878484 UTC        |\n",
       "|  2 | 2022-03-04 17:07:44.387000+00:00 |    4368092 | START -- SUMMIT-6177 - Rotator movements in steps of 20 deg -- Starting Time: 2022-03-04 17:07:44.387246 UTC |\n",
       "|  3 | 2022-03-04 17:21:44.043000+00:00 |    4368092 | FAIL -- SUMMIT-6177 - Rotator movements in steps of 20 deg -- End Time: 2022-03-04 17:21:44.043146 UTC       |\n",
       "|  4 | 2022-03-04 17:22:14.088000+00:00 |    4368092 | START -- SUMMIT-6177 - Rotator movements in steps of 10 deg -- Starting Time: 2022-03-04 17:22:14.087859 UTC |\n",
       "|  5 | 2022-03-04 17:28:21.967000+00:00 |    4368092 | END -- SUMMIT-6177 - Rotator movements in steps of 10 deg -- End Time: 2022-03-04 17:28:21.967280 UTC        |\n",
       "|  6 | 2022-03-04 17:29:07.323000+00:00 |    4368092 | START -- SUMMIT-6177 - Rotator movements in steps of 20 deg -- Starting Time: 2022-03-04 17:29:07.323045 UTC |\n",
       "|  7 | 2022-03-04 17:39:46.277000+00:00 |    4368092 | FAIL -- SUMMIT-6177 - Rotator movements in steps of 20 deg -- End Time: 2022-03-04 17:39:46.277441 UTC       |\n",
       "|  8 | 2022-03-04 18:48:12.640000+00:00 |    4368092 | START -- SUMMIT-6177 - Rotator movements in steps of 20 deg -- Starting Time: 2022-03-04 18:48:12.639902 UTC |\n",
       "|  9 | 2022-04-20 14:41:12.341000+00:00 |    4368092 | START -- Rotator Torque Calibrations Test A -- Starting Time: 2022-04-20 14:41:12.341234 UTC                 |\n",
       "| 10 | 2022-04-20 14:49:37.227000+00:00 |    4368092 | END -- Rotator Torque Calibrations Test A -- Starting Time: 2022-04-20 14:41:12.341234 UTC                   |\n",
       "| 11 | 2022-04-20 14:58:46.163000+00:00 |    4368092 | START -- Rotator Torque Calibrations Test A -- Starting Time: 2022-04-20 14:58:46.163495 UTC                 |\n",
       "| 12 | 2022-04-20 15:01:14.788000+00:00 |    4368092 | FAIL -- Rotator Torque Calibrations Test A -- Starting Time: 2022-04-20 14:58:46.163495 UTC                  |\n",
       "| 13 | 2022-04-20 15:01:58.461000+00:00 |    4368092 | START -- Rotator Torque Calibrations Test A -- Starting Time: 2022-04-20 15:01:58.461595 UTC                 |\n",
       "| 14 | 2022-04-20 15:05:31.767000+00:00 |    4368092 | END -- Rotator Torque Calibrations Test A -- Starting Time: 2022-04-20 15:01:58.461595 UTC                   |\n",
       "| 15 | 2022-04-20 15:10:24.750000+00:00 |    4368092 | START -- Rotator Torque Calibrations Test B -- Starting Time: 2022-04-20 15:10:24.750631 UTC                 |\n",
       "| 16 | 2022-04-20 15:12:44.802000+00:00 |    4368092 | FAIL -- Rotator Torque Calibrations Test B -- Starting Time: 2022-04-20 15:10:24.750631 UTC                  |\n",
       "| 17 | 2022-04-20 16:27:23.172000+00:00 |    4368092 | START -- Rotator Torque Calibrations Test A -- Starting Time: 2022-04-20 16:27:23.172542 UTC                 |\n",
       "| 18 | 2022-04-20 16:32:29.047000+00:00 |    4368092 | END -- Rotator Torque Calibrations Test A -- Starting Time: 2022-04-20 16:27:23.172542 UTC                   |\n",
       "| 19 | 2022-04-20 16:33:01.908000+00:00 |    4368092 | START -- Rotator Torque Calibrations Test B -- Starting Time: 2022-04-20 16:33:01.908381 UTC                 |\n",
       "| 20 | 2022-04-20 16:37:34.041000+00:00 |    4368092 | FAIL -- Rotator Torque Calibrations Test B -- Starting Time: 2022-04-20 16:33:01.908381 UTC                  |\n",
       "| 21 | 2022-04-20 16:39:40.413000+00:00 |    4368092 | START -- Rotator Torque Calibrations Test B -- Starting Time: 2022-04-20 16:39:40.413624 UTC                 |\n",
       "| 22 | 2022-04-20 16:47:39.231000+00:00 |    4368092 | FAIL -- Rotator Torque Calibrations Test B -- Starting Time: 2022-04-20 16:39:40.413624 UTC                  |\n",
       "| 23 | 2022-04-20 16:48:32.349000+00:00 |    4368092 | START -- Rotator Torque Calibrations Test B -- Starting Time: 2022-04-20 16:48:32.349275 UTC                 |\n",
       "| 24 | 2022-04-20 16:54:39.736000+00:00 |    4368092 | FAIL -- Rotator Torque Calibrations Test B -- Starting Time: 2022-04-20 16:48:32.349275 UTC                  |\n",
       "| 25 | 2022-04-20 16:56:52.044000+00:00 |    4368092 | START -- Rotator Torque Calibrations Test B -- Starting Time: 2022-04-20 16:56:52.044069 UTC                 |\n",
       "| 26 | 2022-04-20 17:18:44.954000+00:00 |    4368092 | END -- Rotator Torque Calibrations Test B -- Starting Time: 2022-04-20 16:56:52.044069 UTC                   |\n",
       "| 27 | 2022-04-20 17:32:32.913000+00:00 |    4368092 | START -- Rotator Torque Calibrations Test B -- Starting Time: 2022-04-20 17:32:32.913434 UTC                 |\n",
       "| 28 | 2022-04-20 17:41:10.807000+00:00 |    4368092 | END -- Rotator Torque Calibrations Test B -- Starting Time: 2022-04-20 17:32:32.913434 UTC                   |\n",
       "| 29 | 2022-04-20 17:51:09.842000+00:00 |    4368092 | START -- Rotator Torque Calibrations Test C -- Starting Time: 2022-04-20 17:51:09.841784 UTC                 |\n",
       "| 30 | 2022-04-20 17:57:14.878000+00:00 |    4368092 | FAIl -- Rotator Torque Calibrations Test C -- Starting Time: 2022-04-20 17:51:09.841784 UTC                  |\n",
       "| 31 | 2022-04-20 17:57:49.550000+00:00 |    4368092 | START -- Rotator Torque Calibrations Test C -- Starting Time: 2022-04-20 17:57:49.550475 UTC                 |\n",
       "| 32 | 2022-04-20 18:12:22.094000+00:00 |    4368092 | END -- Rotator Torque Calibrations Test C -- Starting Time: 2022-04-20 17:57:49.550475 UTC                   |\n",
       "| 33 | 2022-04-20 19:10:55.856000+00:00 |    4368092 | START -- Rotator Torque Calibrations Test D -- Starting Time: 2022-04-20 19:10:55.856749 UTC                 |\n",
       "| 34 | 2022-04-20 19:14:22.825000+00:00 |    4368092 | END -- Rotator Torque Calibrations Test D -- Starting Time: 2022-04-20 19:10:55.856749 UTC                   |\n",
       "| 35 | 2022-04-20 19:30:18.581000+00:00 |    4368092 | FAIL -- Rotator Torque Calibrations Test D -- Starting Time: 2022-04-20 19:10:55.856749 UTC                  |\n",
       "| 36 | 2022-04-20 19:30:56.386000+00:00 |    4368092 | START -- Rotator Torque Calibrations Test E -- Starting Time: 2022-04-20 19:30:56.385950 UTC                 |\n",
       "| 37 | 2022-04-20 19:35:48.984000+00:00 |    4368092 | END -- Rotator Torque Calibrations Test E -- Starting Time: 2022-04-20 19:30:56.385950 UTC                   |\n",
       "| 38 | 2022-04-20 19:35:49.019000+00:00 |    4368092 | START -- Rotator Torque Calibrations Test F -- Starting Time: 2022-04-20 19:35:49.019538 UTC                 |\n",
       "| 39 | 2022-04-20 19:49:37.369000+00:00 |    4368092 | END -- Rotator Torque Calibrations Test F -- Starting Time: 2022-04-20 19:35:49.019538 UTC                   |"
      ],
      "text/plain": [
       "<IPython.core.display.Markdown object>"
      ]
     },
     "metadata": {},
     "output_type": "display_data"
    }
   ],
   "source": [
    "#%%script echo Skipping Cell\n",
    "\n",
    "from IPython.display import Markdown\n",
    "display(Markdown(messages.to_markdown()))"
   ]
  },
  {
   "cell_type": "code",
   "execution_count": null,
   "id": "f8635c63-7d98-4f5e-8a73-b2597c7db355",
   "metadata": {},
   "outputs": [],
   "source": []
  }
 ],
 "metadata": {
  "kernelspec": {
   "display_name": "LSST",
   "language": "python",
   "name": "lsst"
  },
  "language_info": {
   "codemirror_mode": {
    "name": "ipython",
    "version": 3
   },
   "file_extension": ".py",
   "mimetype": "text/x-python",
   "name": "python",
   "nbconvert_exporter": "python",
   "pygments_lexer": "ipython3",
   "version": "3.10.4"
  }
 },
 "nbformat": 4,
 "nbformat_minor": 5
}
